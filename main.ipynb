{
 "cells": [
  {
   "cell_type": "code",
   "execution_count": null,
   "id": "78bab060-0924-4af3-b97a-0f6242a32f31",
   "metadata": {},
   "outputs": [],
   "source": []
  },
  {
   "cell_type": "markdown",
   "id": "1638275c-2ac3-43ea-beca-33ab228fcc58",
   "metadata": {
    "tags": []
   },
   "source": [
    "# Unit 5 - Financial Planning"
   ]
  },
  {
   "cell_type": "code",
   "execution_count": 127,
   "id": "cfb31d83-59b6-4868-a8e1-ccbe013939e2",
   "metadata": {},
   "outputs": [],
   "source": [
    "# Initial imports\n",
    "import os\n",
    "import requests\n",
    "import json\n",
    "import pandas as pd\n",
    "from dotenv import load_dotenv\n",
    "import alpaca_trade_api as tradeapi\n",
    "from MCForecastTools import MCSimulation\n",
    "\n",
    "%matplotlib inline"
   ]
  },
  {
   "cell_type": "code",
   "execution_count": 128,
   "id": "4cd6dc58-3db9-4bb3-bd3d-4acedc16c604",
   "metadata": {},
   "outputs": [],
   "source": [
    "alpaca_api_key = os.getenv(\"ALPACA_API_KEY\")\n",
    "alpaca_secret_key = os.getenv(\"ALPACA_SECRET_KEY\")\n",
    "\n",
    "api = tradeapi.REST(\n",
    "    alpaca_api_key,\n",
    "    alpaca_secret_key,\n",
    "    api_version = \"v2\"\n",
    ")"
   ]
  },
  {
   "cell_type": "code",
   "execution_count": 129,
   "id": "2aa3c5d7-22d5-4e75-b7c0-04c92905c953",
   "metadata": {},
   "outputs": [
    {
     "data": {
      "text/plain": [
       "True"
      ]
     },
     "execution_count": 129,
     "metadata": {},
     "output_type": "execute_result"
    }
   ],
   "source": [
    "# Load .env enviroment variables\n",
    "load_dotenv()\n"
   ]
  },
  {
   "cell_type": "markdown",
   "id": "9aeb4f90-8240-4bf6-8f50-80b3ae715270",
   "metadata": {},
   "source": [
    "## Part 1 - Personal Finance Planner"
   ]
  },
  {
   "cell_type": "markdown",
   "id": "2ee0dbd2-1298-4cbf-935b-c67e2019701c",
   "metadata": {},
   "source": [
    "### Collect Crypto Prices Using the `requests` Library"
   ]
  },
  {
   "cell_type": "code",
   "execution_count": 130,
   "id": "5863fcd5-0000-4559-81ce-a6ab157d4c29",
   "metadata": {},
   "outputs": [
    {
     "data": {
      "text/html": [
       "<div>\n",
       "<style scoped>\n",
       "    .dataframe tbody tr th:only-of-type {\n",
       "        vertical-align: middle;\n",
       "    }\n",
       "\n",
       "    .dataframe tbody tr th {\n",
       "        vertical-align: top;\n",
       "    }\n",
       "\n",
       "    .dataframe thead th {\n",
       "        text-align: right;\n",
       "    }\n",
       "</style>\n",
       "<table border=\"1\" class=\"dataframe\">\n",
       "  <thead>\n",
       "    <tr style=\"text-align: right;\">\n",
       "      <th></th>\n",
       "      <th>coins</th>\n",
       "    </tr>\n",
       "  </thead>\n",
       "  <tbody>\n",
       "    <tr>\n",
       "      <th>BTC</th>\n",
       "      <td>1.2</td>\n",
       "    </tr>\n",
       "    <tr>\n",
       "      <th>ETH</th>\n",
       "      <td>5.3</td>\n",
       "    </tr>\n",
       "  </tbody>\n",
       "</table>\n",
       "</div>"
      ],
      "text/plain": [
       "     coins\n",
       "BTC    1.2\n",
       "ETH    5.3"
      ]
     },
     "execution_count": 130,
     "metadata": {},
     "output_type": "execute_result"
    }
   ],
   "source": [
    "# Set current amount of crypto assets\n",
    "\n",
    "my_btc = 1.2\n",
    "my_eth = 5.3\n",
    "# YOUR CODE HERE!\n",
    "crypto_data = {\n",
    "    \"coins\": [1.2, 5.3]\n",
    "}\n",
    "\n",
    "coins = [\"BTC\", \"ETH\"]\n",
    "\n",
    "coin_shares = pd.DataFrame(crypto_data, index=coins)\n",
    "\n",
    "coin_shares"
   ]
  },
  {
   "cell_type": "code",
   "execution_count": 131,
   "id": "6905c2d6-aab7-4603-b059-8d53dec16726",
   "metadata": {},
   "outputs": [],
   "source": [
    "# Crypto API URLs\n",
    "btc_url = \"https://api.alternative.me/v2/ticker/Bitcoin/?convert=CAD\"\n",
    "eth_url = \"https://api.alternative.me/v2/ticker/Ethereum/?convert=CAD\""
   ]
  },
  {
   "cell_type": "code",
   "execution_count": 111,
   "id": "e3429256-3458-4c75-91e4-d99991544038",
   "metadata": {
    "tags": []
   },
   "outputs": [],
   "source": [
    "# Fetch current BTC price\n",
    "# YOUR CODE HERE!\n",
    "btc_request = requests.get(btc_url).json()\n",
    "#btc_request = json.dumps(btc_request, indent=4)\n",
    "btc_price = btc_request['data']['1']['quotes']['USD']['price']"
   ]
  },
  {
   "cell_type": "code",
   "execution_count": 132,
   "id": "26a20760-9474-4ae5-a381-e80a962ba841",
   "metadata": {
    "tags": []
   },
   "outputs": [],
   "source": [
    "# Fetch current ETH price\n",
    "# YOUR CODE HERE!\n",
    "eth_request = requests.get(eth_url).json()\n",
    "#print(json.dumps(eth_request, indent=4))\n",
    "eth_price = eth_request['data']['1027']['quotes']['USD']['price']"
   ]
  },
  {
   "cell_type": "code",
   "execution_count": 133,
   "id": "8337dbfc-e6ac-4675-b276-97a214f28fd8",
   "metadata": {
    "tags": []
   },
   "outputs": [
    {
     "name": "stdout",
     "output_type": "stream",
     "text": [
      "The current value of your 1.2 BTC is $45302.40\n",
      "The current value of your 5.3 ETH is $13314.13\n"
     ]
    }
   ],
   "source": [
    "# Compute current value of my crpto\n",
    "# YOUR CODE HERE!\n",
    "\n",
    "my_btc_value = btc_price * my_btc\n",
    "my_eth_value = eth_price * my_eth\n",
    "\n",
    "btc_value = btc_price * coin_shares.loc[\"BTC\"][\"coins\"]\n",
    "eth_value = eth_price * coin_shares.loc[\"ETH\"][\"coins\"]\n",
    "# Print current crypto wallet balance\n",
    "print(f\"The current value of your {my_btc} BTC is ${my_btc_value:0.2f}\")\n",
    "print(f\"The current value of your {my_eth} ETH is ${my_eth_value:0.2f}\")"
   ]
  },
  {
   "cell_type": "markdown",
   "id": "0ed713e1-3c09-40c4-9e96-79dee73b58c0",
   "metadata": {},
   "source": [
    "### Collect Investments Data Using Alpaca: `SPY` (stocks) and `AGG` (bonds)"
   ]
  },
  {
   "cell_type": "code",
   "execution_count": 134,
   "id": "3ef7afc4-8bd3-4625-89d3-95bb1eefe8c0",
   "metadata": {},
   "outputs": [],
   "source": [
    "# Set current amount of shares\n",
    "my_agg = 200\n",
    "my_spy = 50"
   ]
  },
  {
   "cell_type": "code",
   "execution_count": 135,
   "id": "6c4d30e7-d97c-4c7f-8206-4552ede669ee",
   "metadata": {},
   "outputs": [],
   "source": [
    "# Set Alpaca API key and secret\n",
    "alpaca_api_key = os.getenv(\"ALPACA_API_KEY\")\n",
    "alpaca_secret_key = os.getenv(\"ALPACA_SECRET_KEY\")\n",
    "# Create the Alpaca API object\n",
    "alpaca = tradeapi.REST(\n",
    "    alpaca_api_key,\n",
    "    alpaca_secret_key,\n",
    "    api_version=\"v2\")"
   ]
  },
  {
   "cell_type": "code",
   "execution_count": 136,
   "id": "0f9b80f1-644f-43fd-b006-4d789bf99877",
   "metadata": {},
   "outputs": [
    {
     "data": {
      "text/html": [
       "<div>\n",
       "<style scoped>\n",
       "    .dataframe tbody tr th:only-of-type {\n",
       "        vertical-align: middle;\n",
       "    }\n",
       "\n",
       "    .dataframe tbody tr th {\n",
       "        vertical-align: top;\n",
       "    }\n",
       "\n",
       "    .dataframe thead tr th {\n",
       "        text-align: left;\n",
       "    }\n",
       "\n",
       "    .dataframe thead tr:last-of-type th {\n",
       "        text-align: right;\n",
       "    }\n",
       "</style>\n",
       "<table border=\"1\" class=\"dataframe\">\n",
       "  <thead>\n",
       "    <tr>\n",
       "      <th></th>\n",
       "      <th colspan=\"5\" halign=\"left\">AGG</th>\n",
       "      <th colspan=\"5\" halign=\"left\">SPY</th>\n",
       "    </tr>\n",
       "    <tr>\n",
       "      <th></th>\n",
       "      <th>open</th>\n",
       "      <th>high</th>\n",
       "      <th>low</th>\n",
       "      <th>close</th>\n",
       "      <th>volume</th>\n",
       "      <th>open</th>\n",
       "      <th>high</th>\n",
       "      <th>low</th>\n",
       "      <th>close</th>\n",
       "      <th>volume</th>\n",
       "    </tr>\n",
       "    <tr>\n",
       "      <th>time</th>\n",
       "      <th></th>\n",
       "      <th></th>\n",
       "      <th></th>\n",
       "      <th></th>\n",
       "      <th></th>\n",
       "      <th></th>\n",
       "      <th></th>\n",
       "      <th></th>\n",
       "      <th></th>\n",
       "      <th></th>\n",
       "    </tr>\n",
       "  </thead>\n",
       "  <tbody>\n",
       "    <tr>\n",
       "      <th>2022-01-21 00:00:00-05:00</th>\n",
       "      <td>112.19</td>\n",
       "      <td>112.35</td>\n",
       "      <td>112.11</td>\n",
       "      <td>112.24</td>\n",
       "      <td>7792653</td>\n",
       "      <td>445.56</td>\n",
       "      <td>448.06</td>\n",
       "      <td>437.97</td>\n",
       "      <td>438.11</td>\n",
       "      <td>174541929</td>\n",
       "    </tr>\n",
       "  </tbody>\n",
       "</table>\n",
       "</div>"
      ],
      "text/plain": [
       "                              AGG                                      SPY  \\\n",
       "                             open    high     low   close   volume    open   \n",
       "time                                                                         \n",
       "2022-01-21 00:00:00-05:00  112.19  112.35  112.11  112.24  7792653  445.56   \n",
       "\n",
       "                                                              \n",
       "                             high     low   close     volume  \n",
       "time                                                          \n",
       "2022-01-21 00:00:00-05:00  448.06  437.97  438.11  174541929  "
      ]
     },
     "execution_count": 136,
     "metadata": {},
     "output_type": "execute_result"
    }
   ],
   "source": [
    "# Format current date as ISO format\n",
    "# YOUR CODE HERE!\n",
    "today = pd.Timestamp(\"2022-01-21\", tz=\"America/Chicago\").isoformat()\n",
    "# Set the tickers\n",
    "tickers = [\"AGG\", \"SPY\"]\n",
    "\n",
    "# Set timeframe to '1D' for Alpaca API\n",
    "timeframe = \"1D\"\n",
    "\n",
    "# Get current closing prices for SPY and AGG\n",
    "# (use a limit=1000 parameter to call the most recent 1000 days of data)\n",
    "# YOUR CODE HERE!\n",
    "df_portfolio = alpaca.get_barset(\n",
    "    tickers,\n",
    "    timeframe,\n",
    "    start = today,\n",
    "    end = today,\n",
    "    limit = 1000\n",
    ").df\n",
    "\n",
    "# Preview DataFrame\n",
    "# YOUR CODE HERE!\n",
    "df_portfolio"
   ]
  },
  {
   "cell_type": "code",
   "execution_count": 137,
   "id": "ad95ed8d-dd55-47cf-953f-3eb2122e3703",
   "metadata": {},
   "outputs": [
    {
     "data": {
      "text/html": [
       "<div>\n",
       "<style scoped>\n",
       "    .dataframe tbody tr th:only-of-type {\n",
       "        vertical-align: middle;\n",
       "    }\n",
       "\n",
       "    .dataframe tbody tr th {\n",
       "        vertical-align: top;\n",
       "    }\n",
       "\n",
       "    .dataframe thead th {\n",
       "        text-align: right;\n",
       "    }\n",
       "</style>\n",
       "<table border=\"1\" class=\"dataframe\">\n",
       "  <thead>\n",
       "    <tr style=\"text-align: right;\">\n",
       "      <th></th>\n",
       "      <th>shares</th>\n",
       "    </tr>\n",
       "  </thead>\n",
       "  <tbody>\n",
       "    <tr>\n",
       "      <th>AGG</th>\n",
       "      <td>200</td>\n",
       "    </tr>\n",
       "    <tr>\n",
       "      <th>SPY</th>\n",
       "      <td>50</td>\n",
       "    </tr>\n",
       "  </tbody>\n",
       "</table>\n",
       "</div>"
      ],
      "text/plain": [
       "     shares\n",
       "AGG     200\n",
       "SPY      50"
      ]
     },
     "execution_count": 137,
     "metadata": {},
     "output_type": "execute_result"
    }
   ],
   "source": [
    "shares_data = {\n",
    "    \"shares\": [200, 50]\n",
    "}\n",
    "\n",
    "tickers = [\"AGG\", \"SPY\"]\n",
    "\n",
    "df_shares = pd.DataFrame(shares_data, index=tickers)\n",
    "\n",
    "df_shares"
   ]
  },
  {
   "cell_type": "code",
   "execution_count": 138,
   "id": "bc70168e-f114-4c96-b3bc-e7099b630dd3",
   "metadata": {},
   "outputs": [
    {
     "name": "stdout",
     "output_type": "stream",
     "text": [
      "Current AGG closing price: $112.24\n",
      "Current SPY closing price: $438.11\n"
     ]
    }
   ],
   "source": [
    "# Pick AGG and SPY close prices\n",
    "# YOUR CODE HERE!\n",
    "agg_close_price = float(df_portfolio[\"AGG\"][\"close\"])\n",
    "spy_close_price = float(df_portfolio[\"SPY\"][\"close\"])\n",
    "# Print AGG and SPY close prices\n",
    "print(f\"Current AGG closing price: ${agg_close_price}\")\n",
    "print(f\"Current SPY closing price: ${spy_close_price}\")"
   ]
  },
  {
   "cell_type": "code",
   "execution_count": 139,
   "id": "f8281997-9845-47d4-8176-ea36da0a6bee",
   "metadata": {},
   "outputs": [
    {
     "name": "stdout",
     "output_type": "stream",
     "text": [
      "The current value of your 50 SPY shares is $21905.50\n",
      "The current value of your 200 AGG shares is $22448.00\n"
     ]
    }
   ],
   "source": [
    "# Compute the current value of shares\n",
    "# YOUR CODE HERE!\n",
    "agg_value = agg_close_price * df_shares.loc[\"AGG\"][\"shares\"]\n",
    "spy_value = spy_close_price * df_shares.loc[\"SPY\"][\"shares\"]\n",
    "# Print current value of shares\n",
    "print(f\"The current value of your {my_spy} SPY shares is ${spy_value:0.2f}\")\n",
    "print(f\"The current value of your {my_agg} AGG shares is ${agg_value:0.2f}\")"
   ]
  },
  {
   "cell_type": "markdown",
   "id": "85d8e346-d9dc-41d0-a6cf-9d0e23f722ba",
   "metadata": {},
   "source": [
    "### Savings Health Analysis"
   ]
  },
  {
   "cell_type": "code",
   "execution_count": 145,
   "id": "75976daa-8d5d-44a2-bcde-732f3fa5c918",
   "metadata": {},
   "outputs": [
    {
     "data": {
      "text/plain": [
       "[[58616.53], [44353.5]]"
      ]
     },
     "metadata": {},
     "output_type": "display_data"
    },
    {
     "data": {
      "text/html": [
       "<div>\n",
       "<style scoped>\n",
       "    .dataframe tbody tr th:only-of-type {\n",
       "        vertical-align: middle;\n",
       "    }\n",
       "\n",
       "    .dataframe tbody tr th {\n",
       "        vertical-align: top;\n",
       "    }\n",
       "\n",
       "    .dataframe thead th {\n",
       "        text-align: right;\n",
       "    }\n",
       "</style>\n",
       "<table border=\"1\" class=\"dataframe\">\n",
       "  <thead>\n",
       "    <tr style=\"text-align: right;\">\n",
       "      <th></th>\n",
       "      <th>amount</th>\n",
       "    </tr>\n",
       "  </thead>\n",
       "  <tbody>\n",
       "    <tr>\n",
       "      <th>Crypto</th>\n",
       "      <td>58616.53</td>\n",
       "    </tr>\n",
       "    <tr>\n",
       "      <th>Shares</th>\n",
       "      <td>44353.50</td>\n",
       "    </tr>\n",
       "  </tbody>\n",
       "</table>\n",
       "</div>"
      ],
      "text/plain": [
       "          amount\n",
       "Crypto  58616.53\n",
       "Shares  44353.50"
      ]
     },
     "execution_count": 145,
     "metadata": {},
     "output_type": "execute_result"
    }
   ],
   "source": [
    "# Consolidate financial assets data\n",
    "#pandas.DataFrame(data=None, index=None, columns=None, dtype=None, copy=None)\n",
    "\n",
    "# YOUR CODE HERE!\n",
    "savings_df = [\n",
    "    [my_btc_value + my_eth_value],\n",
    "    [agg_value + spy_value]\n",
    "]\n",
    "\n",
    "\n",
    "    \n",
    "savings_df = pd.DataFrame(savings_df, index=['Crypto', 'Shares'], columns=['amount'])\n",
    "savings_df\n",
    "#crypto_value_df"
   ]
  },
  {
   "cell_type": "code",
   "execution_count": 121,
   "id": "f30983d3-3da9-4b70-babb-8ef6d48531e2",
   "metadata": {},
   "outputs": [
    {
     "data": {
      "text/html": [
       "<div>\n",
       "<style scoped>\n",
       "    .dataframe tbody tr th:only-of-type {\n",
       "        vertical-align: middle;\n",
       "    }\n",
       "\n",
       "    .dataframe tbody tr th {\n",
       "        vertical-align: top;\n",
       "    }\n",
       "\n",
       "    .dataframe thead th {\n",
       "        text-align: right;\n",
       "    }\n",
       "</style>\n",
       "<table border=\"1\" class=\"dataframe\">\n",
       "  <thead>\n",
       "    <tr style=\"text-align: right;\">\n",
       "      <th></th>\n",
       "      <th>AGG</th>\n",
       "      <th>SPY</th>\n",
       "    </tr>\n",
       "  </thead>\n",
       "  <tbody>\n",
       "    <tr>\n",
       "      <th>0</th>\n",
       "      <td>22448.0</td>\n",
       "      <td>21905.5</td>\n",
       "    </tr>\n",
       "  </tbody>\n",
       "</table>\n",
       "</div>"
      ],
      "text/plain": [
       "       AGG      SPY\n",
       "0  22448.0  21905.5"
      ]
     },
     "execution_count": 121,
     "metadata": {},
     "output_type": "execute_result"
    }
   ],
   "source": [
    "# Consolidate financial assets data\n",
    "# YOUR CODE HERE!\n",
    "shares_value = {\n",
    "    \"AGG\": [agg_value],\n",
    "    \"SPY\": [spy_value]\n",
    "}\n",
    "shares_value_df = pd.DataFrame(shares_value)\n",
    "shares_value_df"
   ]
  },
  {
   "cell_type": "code",
   "execution_count": 149,
   "id": "7f506e18-3631-490f-878c-8be418d7726e",
   "metadata": {},
   "outputs": [
    {
     "data": {
      "text/plain": [
       "int"
      ]
     },
     "execution_count": 149,
     "metadata": {},
     "output_type": "execute_result"
    }
   ],
   "source": [
    "# Set monthly household income\n",
    "# YOUR CODE HERE!\n",
    "monthly_income = 12000\n",
    "type(monthly_income)"
   ]
  },
  {
   "cell_type": "code",
   "execution_count": 146,
   "id": "ef771b2f-ef5e-45ab-a18b-a71d94bb8204",
   "metadata": {},
   "outputs": [
    {
     "data": {
      "text/html": [
       "<div>\n",
       "<style scoped>\n",
       "    .dataframe tbody tr th:only-of-type {\n",
       "        vertical-align: middle;\n",
       "    }\n",
       "\n",
       "    .dataframe tbody tr th {\n",
       "        vertical-align: top;\n",
       "    }\n",
       "\n",
       "    .dataframe thead th {\n",
       "        text-align: right;\n",
       "    }\n",
       "</style>\n",
       "<table border=\"1\" class=\"dataframe\">\n",
       "  <thead>\n",
       "    <tr style=\"text-align: right;\">\n",
       "      <th></th>\n",
       "      <th>amount</th>\n",
       "    </tr>\n",
       "  </thead>\n",
       "  <tbody>\n",
       "    <tr>\n",
       "      <th>Crypto</th>\n",
       "      <td>58616.53</td>\n",
       "    </tr>\n",
       "    <tr>\n",
       "      <th>Shares</th>\n",
       "      <td>44353.50</td>\n",
       "    </tr>\n",
       "  </tbody>\n",
       "</table>\n",
       "</div>"
      ],
      "text/plain": [
       "          amount\n",
       "Crypto  58616.53\n",
       "Shares  44353.50"
      ]
     },
     "execution_count": 146,
     "metadata": {},
     "output_type": "execute_result"
    }
   ],
   "source": [
    "# Consolidate financial assets data\n",
    "# YOUR CODE HERE!\n",
    "savings_df = [\n",
    "    [my_btc_value + my_eth_value],\n",
    "    [agg_value + spy_value]\n",
    "]\n",
    "\n",
    "\n",
    "    \n",
    "savings_df = pd.DataFrame(savings_df, index=['Crypto', 'Shares'], columns=['amount'])\n",
    "savings_df"
   ]
  },
  {
   "cell_type": "code",
   "execution_count": 147,
   "id": "38834414-e95b-4f73-9738-55bbaf075c99",
   "metadata": {},
   "outputs": [
    {
     "data": {
      "text/plain": [
       "<AxesSubplot:title={'center':'Composition of Personal Savings'}, ylabel='amount'>"
      ]
     },
     "execution_count": 147,
     "metadata": {},
     "output_type": "execute_result"
    },
    {
     "data": {
      "image/png": "[encoded data removed]",
      "text/plain": [
       "<Figure size 432x288 with 1 Axes>"
      ]
     },
     "metadata": {},
     "output_type": "display_data"
    }
   ],
   "source": [
    "# Plot savings pie chart\n",
    "# YOUR CODE HERE!\n",
    "\n",
    "savings_df.plot.pie(y=\"amount\", title=\"Composition of Personal Savings\")"
   ]
  },
  {
   "cell_type": "code",
   "execution_count": 154,
   "id": "95ee12ce-fd26-4b13-adb1-5e44fa4feeb0",
   "metadata": {},
   "outputs": [
    {
     "name": "stdout",
     "output_type": "stream",
     "text": [
      "You have done a great job with your finances!\n"
     ]
    }
   ],
   "source": [
    "# Set ideal emergency fund\n",
    "emergency_fund = monthly_income * 3\n",
    "\n",
    "# Calculate total amount of savings\n",
    "# YOUR CODE HERE!\n",
    "total_savings = savings_df.sum()['amount']\n",
    "# Validate saving health\n",
    "# YOUR CODE HERE!\n",
    "if total_savings == emergency_fund:\n",
    "    print(f\"You are doing ok.\")\n",
    "elif total_savings > emergency_fund:\n",
    "    print(f\"You have done a great job with your finances!\")\n",
    "elif total_savings < emergency_fund:\n",
    "    print(f\"You have some improvements to be made, financially.\")\n",
    "  "
   ]
  },
  {
   "cell_type": "markdown",
   "id": "9215b64a-7c28-4ebe-b5fa-008b5b515e13",
   "metadata": {},
   "source": [
    "## Part 2 - Retirement Planning\n",
    "\n",
    "### Monte Carlo Simulation"
   ]
  },
  {
   "cell_type": "code",
   "execution_count": null,
   "id": "908cd928-2734-4279-bbef-6bdbfad3b9d4",
   "metadata": {},
   "outputs": [],
   "source": [
    "# Set start and end dates of five years back from today.\n",
    "# Sample results may vary from the solution based on the time frame chosen\n",
    "start_date = pd.Timestamp('2017-01-25', tz='America/Chicago').isoformat()\n",
    "end_date = pd.Timestamp('2022-01-25', tz='America/Chicago').isoformat()"
   ]
  },
  {
   "cell_type": "code",
   "execution_count": null,
   "id": "1ea72237-eb48-4c44-94d3-b26f26f57dd0",
   "metadata": {},
   "outputs": [],
   "source": [
    "# Get 5 years' worth of historical data for SPY and AGG\n",
    "\n",
    "# (use a limit=1000 parameter to call the most recent 1000 days of data)\n",
    "# YOUR CODE HERE!\n",
    "\n",
    "timeframe = \"1D\"\n",
    "\n",
    "\n",
    "tickers = ['SPY', 'AGG']\n",
    "\n",
    "\n",
    "df_ticker = api.get_barset(\n",
    "    tickers,\n",
    "    timeframe,\n",
    "    start=start_date,\n",
    "    end=end_date,\n",
    "    limit=1000\n",
    ").df\n",
    "\n",
    "# Display sample data\n",
    "df_ticker.head()"
   ]
  },
  {
   "cell_type": "code",
   "execution_count": null,
   "id": "e314584a-dc27-49fb-89eb-38c1bcc66b88",
   "metadata": {},
   "outputs": [],
   "source": [
    "# Configuring a Monte Carlo simulation to forecast 30 years cumulative returns\n",
    "# YOUR CODE HERE!\n",
    "MC_dist = MCSimulation(\n",
    "    portfolio_data = df_ticker,\n",
    "    weights = [.40, .60],\n",
    "    num_simulation = 500,\n",
    "    num_trading_days = 252*30\n",
    ")\n",
    "\n",
    "\n"
   ]
  },
  {
   "cell_type": "code",
   "execution_count": null,
   "id": "65dc2ca9-656c-4b5e-aea3-d02f67c7901a",
   "metadata": {},
   "outputs": [],
   "source": [
    "# Printing the simulation input data\n",
    "# YOUR CODE HERE!\n",
    "MC_dist.portfolio_data.head()"
   ]
  },
  {
   "cell_type": "code",
   "execution_count": null,
   "id": "c14c94e0-0eab-4a07-9d4e-e94327992e09",
   "metadata": {},
   "outputs": [],
   "source": [
    "# Running a Monte Carlo simulation to forecast 30 years cumulative returns\n",
    "# YOUR CODE HERE!\n",
    "MC_dist.calc_cumulative_return()"
   ]
  },
  {
   "cell_type": "code",
   "execution_count": null,
   "id": "9df97dc7-eb58-4200-8544-679d1f8ee79e",
   "metadata": {},
   "outputs": [],
   "source": [
    "# Plot simulation outcomes\n",
    "# YOUR CODE HERE!\n",
    "line_plot = MC_dist.plot_simulation()"
   ]
  },
  {
   "cell_type": "code",
   "execution_count": null,
   "id": "339b279b-ae17-4474-a997-8adc2f564a5a",
   "metadata": {},
   "outputs": [],
   "source": [
    "# Plot probability distribution and confidence intervals\n",
    "# YOUR CODE HERE!\n",
    "dist_plot = MC_dist.plot_distribution()"
   ]
  },
  {
   "cell_type": "markdown",
   "id": "3d3e93b4-5656-4f7a-8af2-e349317a6d02",
   "metadata": {},
   "source": [
    "### Retirement Analysis"
   ]
  },
  {
   "cell_type": "code",
   "execution_count": null,
   "id": "b6010d21-b936-4f88-b4e2-ef7ce7503d62",
   "metadata": {},
   "outputs": [],
   "source": [
    "# Fetch summary statistics from the Monte Carlo simulation results\n",
    "# YOUR CODE HERE!\n",
    "MC_tbl = MC_dist.summarize_cumulative_return()\n",
    "\n",
    "# Print summary statistics\n",
    "# YOUR CODE HERE!\n",
    "print(MC_tbl)"
   ]
  },
  {
   "cell_type": "markdown",
   "id": "614a2bcc-ed88-4652-933b-453ad278162b",
   "metadata": {},
   "source": [
    "### Calculate the expected portfolio return at the `95%` lower and upper confidence intervals based on a `$20,000` initial investment."
   ]
  },
  {
   "cell_type": "code",
   "execution_count": null,
   "id": "eeae33da-1881-40a2-8756-106fdb752195",
   "metadata": {},
   "outputs": [],
   "source": [
    "# Set initial investment\n",
    "initial_investment = 20000\n",
    "\n",
    "# Use the lower and upper `95%` confidence intervals to calculate the range of the possible outcomes of our $20,000\n",
    "# YOUR CODE HERE!\n",
    "MC_ci_lower = round(MC_tbl[8]*initial_investment,2)\n",
    "MC_ci_upper = round(MC_tbl[9]*initial_investment,2)\n",
    "# Print results\n",
    "print(f\"There is a 95% chance that an initial investment of ${initial_investment} in the portfolio\"\n",
    "      f\" over the next 30 years will end within in the range of\"\n",
    "      f\" ${MC_ci_lower} and ${MC_ci_upper}\")"
   ]
  },
  {
   "cell_type": "markdown",
   "id": "df25c94b-4c09-4b26-9b05-5240f68d5177",
   "metadata": {},
   "source": [
    "### Calculate the expected portfolio return at the `95%` lower and upper confidence intervals based on a `50%` increase in the initial investment."
   ]
  },
  {
   "cell_type": "code",
   "execution_count": null,
   "id": "a584bedf-d6ac-42d8-bda3-7ed72fc02dcb",
   "metadata": {},
   "outputs": [],
   "source": [
    "# Set initial investment\n",
    "initial_investment = 20000 * 1.5\n",
    "\n",
    "# Use the lower and upper `95%` confidence intervals to calculate the range of the possible outcomes of our $30,000\n",
    "# YOUR CODE HERE!\n",
    "initial_investment = 15000\n",
    "MC_ci_lower = round(MC_tbl[8]*initial_investment,2)\n",
    "MC_ci_upper = round(MC_tbl[9]*initial_investment,2)\n",
    "# Print results\n",
    "print(f\"There is a 95% chance that an initial investment of ${initial_investment} in the portfolio\"\n",
    "      f\" over the next 30 years will end within in the range of\"\n",
    "      f\" ${MC_ci_lower} and ${MC_ci_upper}\")"
   ]
  },
  {
   "cell_type": "markdown",
   "id": "a38f7fbf-ced6-42af-a515-29c9df3d9363",
   "metadata": {},
   "source": [
    "## Optional Challenge - Early Retirement\n",
    "\n",
    "\n",
    "### Five Years Retirement Option"
   ]
  },
  {
   "cell_type": "code",
   "execution_count": null,
   "id": "4e3ff9b9-f80e-4bb3-941f-321bf31e2edb",
   "metadata": {},
   "outputs": [],
   "source": [
    "# Configuring a Monte Carlo simulation to forecast 5 years cumulative returns\n",
    "# YOUR CODE HERE!\n",
    "MC_early_dist = MCSimulation(\n",
    "    portfolio_data = df_ticker,\n",
    "    weights = [.40, .60],\n",
    "    num_simulation = 500,\n",
    "    num_trading_days = 252*5\n",
    ")\n",
    "\n",
    "MC_early_dist.portfolio_data.head()"
   ]
  },
  {
   "cell_type": "code",
   "execution_count": null,
   "id": "98eeb886-f7bd-4051-bee0-50f11a57eb3b",
   "metadata": {},
   "outputs": [],
   "source": [
    "# Running a Monte Carlo simulation to forecast 5 years cumulative returns\n",
    "# YOUR CODE HERE!\n",
    "MC_early_dist.calc_cumulative_return()"
   ]
  },
  {
   "cell_type": "code",
   "execution_count": null,
   "id": "06273eca-4f20-438e-b2f5-51c7ea0eca2f",
   "metadata": {},
   "outputs": [],
   "source": [
    "# Plot simulation outcomes\n",
    "# YOUR CODE HERE!\n",
    "line_plot2 = MC_early_dist.plot_simulation()"
   ]
  },
  {
   "cell_type": "code",
   "execution_count": null,
   "id": "25c1710a-0291-49f6-a5f0-15ebb6016eea",
   "metadata": {},
   "outputs": [],
   "source": [
    "# Plot probability distribution and confidence intervals\n",
    "# YOUR CODE HERE!\n",
    "dist_plot2 = MC_early_dist.plot_distribution()"
   ]
  },
  {
   "cell_type": "code",
   "execution_count": null,
   "id": "2256d371-f38a-4900-9f84-86188cd5b47b",
   "metadata": {},
   "outputs": [],
   "source": [
    "# Fetch summary statistics from the Monte Carlo simulation results\n",
    "# YOUR CODE HERE!\n",
    "MC_tbl2 = MC_early_dist.summarize_cumulative_return()\n",
    "\n",
    "# Print summary statistics\n",
    "# YOUR CODE HERE!\n",
    "print(MC_tbl2)"
   ]
  },
  {
   "cell_type": "code",
   "execution_count": null,
   "id": "69690b57-d2fe-4836-809f-6a888929d5a2",
   "metadata": {},
   "outputs": [],
   "source": [
    "# Set initial investment\n",
    "# YOUR CODE HERE!\n",
    "initial_investment = 60000\n",
    "# Use the lower and upper `95%` confidence intervals to calculate the range of the possible outcomes of our $60,000\n",
    "# YOUR CODE HERE!\n",
    "ci_lower_five = round(MC_tbl2[8]*initial_investment,2)\n",
    "ci_upper_five = round(MC_tbl2[9]*initial_investment,2)\n",
    "# Print results\n",
    "print(f\"There is a 95% chance that an initial investment of ${initial_investment} in the portfolio\"\n",
    "      f\" over the next 5 years will end within in the range of\"\n",
    "      f\" ${ci_lower_five} and ${ci_upper_five}\")"
   ]
  },
  {
   "cell_type": "markdown",
   "id": "b687d0a0-59ff-4a70-a695-26097e1ad870",
   "metadata": {},
   "source": [
    "### Ten Years Retirement Option"
   ]
  },
  {
   "cell_type": "code",
   "execution_count": null,
   "id": "c2d6f204-c734-4b99-90f3-6df45076df31",
   "metadata": {},
   "outputs": [],
   "source": [
    "# Configuring a Monte Carlo simulation to forecast 10 years cumulative returns\n",
    "# YOUR CODE HERE!\n",
    "MC_ten_dist = MCSimulation(\n",
    "    portfolio_data = df_ticker,\n",
    "    weights = [.40, .60],\n",
    "    num_simulation = 500,\n",
    "    num_trading_days = 252*10\n",
    ")\n",
    "\n",
    "MC_ten_dist.portfolio_data.head()"
   ]
  },
  {
   "cell_type": "code",
   "execution_count": null,
   "id": "4a94a9b3-452b-418f-8e33-c1b5cef1d7a1",
   "metadata": {},
   "outputs": [],
   "source": [
    "# Running a Monte Carlo simulation to forecast 10 years cumulative returns\n",
    "# YOUR CODE HERE!\n",
    "MC_ten_dist.calc_cumulative_return()"
   ]
  },
  {
   "cell_type": "code",
   "execution_count": null,
   "id": "4cd845a9-3350-4d5c-8f9c-e2ce8c4c4a61",
   "metadata": {},
   "outputs": [],
   "source": [
    "# Plot simulation outcomes\n",
    "# YOUR CODE HERE!\n",
    "line_plot3 = MC_ten_dist.plot_simulation()"
   ]
  },
  {
   "cell_type": "code",
   "execution_count": null,
   "id": "b6528e52-0980-4356-b182-7c3559800dd1",
   "metadata": {},
   "outputs": [],
   "source": [
    "# Plot probability distribution and confidence intervals\n",
    "# YOUR CODE HERE!\n",
    "dist_plot3 = MC_ten_dist.plot_distribution()"
   ]
  },
  {
   "cell_type": "code",
   "execution_count": null,
   "id": "e31a1bc1-decc-40df-a0a3-13aaa397338f",
   "metadata": {},
   "outputs": [],
   "source": [
    "# Fetch summary statistics from the Monte Carlo simulation results\n",
    "# YOUR CODE HERE!\n",
    "MC_tbl3 = MC_ten_dist.summarize_cumulative_return()\n",
    "# Print summary statistics\n",
    "# YOUR CODE HERE!\n",
    "print(MC_tbl3)"
   ]
  },
  {
   "cell_type": "code",
   "execution_count": null,
   "id": "444b8c13-472b-4961-8778-4813526649cb",
   "metadata": {},
   "outputs": [],
   "source": [
    "# Set initial investment\n",
    "# YOUR CODE HERE!\n",
    "initial_investment = 60000\n",
    "# Use the lower and upper `95%` confidence intervals to calculate the range of the possible outcomes of our $60,000\n",
    "# YOUR CODE HERE!\n",
    "ci_lower_ten = round(MC_tbl3[8]*initial_investment,2)\n",
    "ci_upper_ten = round(MC_tbl3[9]*initial_investment,2)\n",
    "# Print results\n",
    "print(f\"There is a 95% chance that an initial investment of ${initial_investment} in the portfolio\"\n",
    "      f\" over the next 10 years will end within in the range of\"\n",
    "      f\" ${ci_lower_ten} and ${ci_upper_ten}\")"
   ]
  },
  {
   "cell_type": "code",
   "execution_count": null,
   "id": "9a8ad568-61b0-4c3a-ac0e-0ea4c8ac87ac",
   "metadata": {},
   "outputs": [],
   "source": []
  }
 ],
 "metadata": {
  "kernelspec": {
   "display_name": "Python 3 (ipykernel)",
   "language": "python",
   "name": "python3"
  },
  "language_info": {
   "codemirror_mode": {
    "name": "ipython",
    "version": 3
   },
   "file_extension": ".py",
   "mimetype": "text/x-python",
   "name": "python",
   "nbconvert_exporter": "python",
   "pygments_lexer": "ipython3",
   "version": "3.9.7"
  }
 },
 "nbformat": 4,
 "nbformat_minor": 5
}
